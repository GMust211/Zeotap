{
 "cells": [
  {
   "cell_type": "code",
   "execution_count": 1,
   "metadata": {},
   "outputs": [],
   "source": [
    "import pandas as pd\n",
    "import numpy as np\n",
    "import matplotlib.pyplot as plt\n",
    "import seaborn as sns\n",
    "from sklearn.preprocessing import StandardScaler\n",
    "from sklearn.metrics.pairwise import cosine_similarity\n",
    "from sklearn.cluster import KMeans\n",
    "from sklearn.metrics import davies_bouldin_score, silhouette_score"
   ]
  },
  {
   "cell_type": "code",
   "execution_count": 7,
   "metadata": {},
   "outputs": [],
   "source": [
    "# Task 1: Load and Explore Data\n",
    "customers = pd.read_csv(\"Customers.csv\")\n",
    "products = pd.read_csv(\"Products.csv\")\n",
    "transactions = pd.read_csv(\"Transactions.csv\")\n",
    "\n",
    "# Merge datasets for comprehensive analysis\n",
    "merged = transactions.merge(customers, on=\"CustomerID\").merge(products, on=\"ProductID\")\n",
    "\n",
    "# Feature engineering using Price_x\n",
    "customer_features = merged.groupby('CustomerID').agg({\n",
    "    'TotalValue': 'sum',       # Total spending by the customer\n",
    "    'Quantity': 'sum',         # Total quantity purchased\n",
    "    'Price_x': 'mean'          # Average transaction price\n",
    "}).reset_index()\n",
    "\n",
    "# Normalize features\n",
    "scaler = StandardScaler()\n",
    "scaled_features = scaler.fit_transform(customer_features[['TotalValue', 'Quantity', 'Price_x']])\n",
    "\n",
    "# Update column names for clarity\n",
    "customer_features.columns = ['CustomerID', 'TotalValue', 'Quantity', 'AvgTransactionPrice']\n",
    "\n",
    "# Compute similarity\n",
    "similarity_matrix = cosine_similarity(scaled_features)\n",
    "similarity_df = pd.DataFrame(similarity_matrix, index=customer_features['CustomerID'], columns=customer_features['CustomerID'])\n",
    "\n",
    "# Find top 3 lookalikes for customers C0001-C0020\n",
    "lookalikes = {}\n",
    "for customer in customer_features['CustomerID'][:20]:\n",
    "    similar_customers = similarity_df[customer].sort_values(ascending=False).iloc[1:4]\n",
    "    lookalikes[customer] = list(zip(similar_customers.index, similar_customers.values))\n",
    "\n",
    "lookalike_df = pd.DataFrame.from_dict(lookalikes, orient='index', columns=['Top1', 'Top2', 'Top3'])\n",
    "lookalike_df.to_csv(\"Gokul_Manoj_Lookalike.csv\")\n"
   ]
  }
 ],
 "metadata": {
  "kernelspec": {
   "display_name": "Python 3",
   "language": "python",
   "name": "python3"
  },
  "language_info": {
   "codemirror_mode": {
    "name": "ipython",
    "version": 3
   },
   "file_extension": ".py",
   "mimetype": "text/x-python",
   "name": "python",
   "nbconvert_exporter": "python",
   "pygments_lexer": "ipython3",
   "version": "3.11.2"
  }
 },
 "nbformat": 4,
 "nbformat_minor": 2
}
